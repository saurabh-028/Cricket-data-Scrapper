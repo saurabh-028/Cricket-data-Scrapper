{
 "cells": [
  {
   "cell_type": "code",
   "execution_count": 1,
   "id": "af2831e2",
   "metadata": {},
   "outputs": [],
   "source": [
    "import pandas as pd\n",
    "import firebase_admin\n",
    "from firebase_admin import credentials, firestore\n",
    "from datetime import datetime\n",
    "from tqdm import tqdm"
   ]
  },
  {
   "cell_type": "code",
   "execution_count": 2,
   "id": "bb0fcf97",
   "metadata": {},
   "outputs": [],
   "source": [
    "cred = credentials.Certificate(\"serviceAccount.json\")\n",
    "firebase_admin.initialize_app(cred)\n",
    "db = firestore.client()"
   ]
  },
  {
   "cell_type": "code",
   "execution_count": 3,
   "id": "8635ced6",
   "metadata": {},
   "outputs": [],
   "source": [
    "matches_ref = db.collection('matches')\n",
    "matches = {doc.id: doc.to_dict() for doc in matches_ref.stream()}"
   ]
  },
  {
   "cell_type": "code",
   "execution_count": 4,
   "id": "dee5673c",
   "metadata": {},
   "outputs": [
    {
     "name": "stderr",
     "output_type": "stream",
     "text": [
      "Processing matches:   0%|          | 0/1109 [00:00<?, ?it/s]"
     ]
    },
    {
     "name": "stderr",
     "output_type": "stream",
     "text": [
      "Processing matches: 100%|██████████| 1109/1109 [03:38<00:00,  5.06it/s]\n"
     ]
    }
   ],
   "source": [
    "combined_data = []\n",
    "for match_id, match_data in tqdm(matches.items(), desc=\"Processing matches\"):\n",
    "    commentary_ref = matches_ref.document(match_id).collection('commentary')\n",
    "    for comm_doc in commentary_ref.stream():\n",
    "        comm_data = comm_doc.to_dict()\n",
    "        # Merge match data with commentary\n",
    "        combined_entry = {\n",
    "            **match_data,  # All match fields\n",
    "            **comm_data,   # All commentary fields\n",
    "            'commentary_id': comm_doc.id  # Keep commentary document ID\n",
    "            }\n",
    "        combined_data.append(combined_entry)"
   ]
  },
  {
   "cell_type": "code",
   "execution_count": 5,
   "id": "4c6b2cf0",
   "metadata": {},
   "outputs": [],
   "source": [
    "df = pd.DataFrame(combined_data)"
   ]
  },
  {
   "cell_type": "code",
   "execution_count": 6,
   "id": "7a75b786",
   "metadata": {},
   "outputs": [
    {
     "data": {
      "text/html": [
       "<div>\n",
       "<style scoped>\n",
       "    .dataframe tbody tr th:only-of-type {\n",
       "        vertical-align: middle;\n",
       "    }\n",
       "\n",
       "    .dataframe tbody tr th {\n",
       "        vertical-align: top;\n",
       "    }\n",
       "\n",
       "    .dataframe thead th {\n",
       "        text-align: right;\n",
       "    }\n",
       "</style>\n",
       "<table border=\"1\" class=\"dataframe\">\n",
       "  <thead>\n",
       "    <tr style=\"text-align: right;\">\n",
       "      <th></th>\n",
       "      <th>date_time</th>\n",
       "      <th>series_name</th>\n",
       "      <th>match_id</th>\n",
       "      <th>match_name</th>\n",
       "      <th>status</th>\n",
       "      <th>venue</th>\n",
       "      <th>season</th>\n",
       "      <th>commText</th>\n",
       "      <th>event</th>\n",
       "      <th>batsmanStrikerName</th>\n",
       "      <th>batTeamName</th>\n",
       "      <th>batsmanStrikerRuns</th>\n",
       "      <th>bowlerStrikerName</th>\n",
       "      <th>batTeamScore</th>\n",
       "      <th>inningsId</th>\n",
       "      <th>timestamp</th>\n",
       "      <th>ballNbr</th>\n",
       "      <th>commentary_id</th>\n",
       "    </tr>\n",
       "  </thead>\n",
       "  <tbody>\n",
       "    <tr>\n",
       "      <th>0</th>\n",
       "      <td>Apr 05, 08:00 PM</td>\n",
       "      <td>Indian Premier League, 2017</td>\n",
       "      <td>18121</td>\n",
       "      <td>Sunrisers Hyderabad vs Royal Challengers Banga...</td>\n",
       "      <td>completed</td>\n",
       "      <td>Rajiv Gandhi International Stadium, Hyderabad</td>\n",
       "      <td>2017</td>\n",
       "      <td>Cutting to Kedar Jadhav, B0$, sprays it down ...</td>\n",
       "      <td>NONE</td>\n",
       "      <td>Kedar Jadhav</td>\n",
       "      <td>RCB</td>\n",
       "      <td>5.0</td>\n",
       "      <td>Cutting</td>\n",
       "      <td>76.0</td>\n",
       "      <td>2.0</td>\n",
       "      <td>1.491412e+12</td>\n",
       "      <td>50.0</td>\n",
       "      <td>05n7e9Tn8XMYRx78imfr</td>\n",
       "    </tr>\n",
       "    <tr>\n",
       "      <th>1</th>\n",
       "      <td>Apr 05, 08:00 PM</td>\n",
       "      <td>Indian Premier League, 2017</td>\n",
       "      <td>18121</td>\n",
       "      <td>Sunrisers Hyderabad vs Royal Challengers Banga...</td>\n",
       "      <td>completed</td>\n",
       "      <td>Rajiv Gandhi International Stadium, Hyderabad</td>\n",
       "      <td>2017</td>\n",
       "      <td>B0$</td>\n",
       "      <td>NONE</td>\n",
       "      <td>Chahal</td>\n",
       "      <td>RCB</td>\n",
       "      <td>0.0</td>\n",
       "      <td>Bhuvneshwar</td>\n",
       "      <td>156.0</td>\n",
       "      <td>2.0</td>\n",
       "      <td>1.491416e+12</td>\n",
       "      <td>0.0</td>\n",
       "      <td>0i7aWf4ZSNalsSAuPps9</td>\n",
       "    </tr>\n",
       "  </tbody>\n",
       "</table>\n",
       "</div>"
      ],
      "text/plain": [
       "          date_time                  series_name match_id  \\\n",
       "0  Apr 05, 08:00 PM  Indian Premier League, 2017    18121   \n",
       "1  Apr 05, 08:00 PM  Indian Premier League, 2017    18121   \n",
       "\n",
       "                                          match_name     status  \\\n",
       "0  Sunrisers Hyderabad vs Royal Challengers Banga...  completed   \n",
       "1  Sunrisers Hyderabad vs Royal Challengers Banga...  completed   \n",
       "\n",
       "                                           venue  season  \\\n",
       "0  Rajiv Gandhi International Stadium, Hyderabad    2017   \n",
       "1  Rajiv Gandhi International Stadium, Hyderabad    2017   \n",
       "\n",
       "                                            commText event batsmanStrikerName  \\\n",
       "0   Cutting to Kedar Jadhav, B0$, sprays it down ...  NONE       Kedar Jadhav   \n",
       "1                                                B0$  NONE             Chahal   \n",
       "\n",
       "  batTeamName  batsmanStrikerRuns bowlerStrikerName  batTeamScore  inningsId  \\\n",
       "0         RCB                 5.0           Cutting          76.0        2.0   \n",
       "1         RCB                 0.0       Bhuvneshwar         156.0        2.0   \n",
       "\n",
       "      timestamp  ballNbr         commentary_id  \n",
       "0  1.491412e+12     50.0  05n7e9Tn8XMYRx78imfr  \n",
       "1  1.491416e+12      0.0  0i7aWf4ZSNalsSAuPps9  "
      ]
     },
     "execution_count": 6,
     "metadata": {},
     "output_type": "execute_result"
    }
   ],
   "source": [
    "df.head(2)"
   ]
  },
  {
   "cell_type": "code",
   "execution_count": 7,
   "id": "48b8ef90",
   "metadata": {},
   "outputs": [
    {
     "data": {
      "text/plain": [
       "array([2017, 2018, 2019, 2020, 2021, 2022, 2023, 2024])"
      ]
     },
     "execution_count": 7,
     "metadata": {},
     "output_type": "execute_result"
    }
   ],
   "source": [
    "df['season'].unique()"
   ]
  },
  {
   "cell_type": "code",
   "execution_count": 8,
   "id": "92a8fad0",
   "metadata": {},
   "outputs": [
    {
     "data": {
      "text/plain": [
       "1109"
      ]
     },
     "execution_count": 8,
     "metadata": {},
     "output_type": "execute_result"
    }
   ],
   "source": [
    "len(matches.keys())"
   ]
  },
  {
   "cell_type": "code",
   "execution_count": 9,
   "id": "bb144f0c",
   "metadata": {},
   "outputs": [
    {
     "data": {
      "text/plain": [
       "518"
      ]
     },
     "execution_count": 9,
     "metadata": {},
     "output_type": "execute_result"
    }
   ],
   "source": [
    "df.match_id.nunique()"
   ]
  },
  {
   "cell_type": "code",
   "execution_count": 10,
   "id": "e1dedfbb",
   "metadata": {},
   "outputs": [
    {
     "data": {
      "text/plain": [
       "(171432, 18)"
      ]
     },
     "execution_count": 10,
     "metadata": {},
     "output_type": "execute_result"
    }
   ],
   "source": [
    "df.shape"
   ]
  },
  {
   "cell_type": "code",
   "execution_count": 11,
   "id": "4facb881",
   "metadata": {},
   "outputs": [
    {
     "data": {
      "text/plain": [
       "array(['RCB', 'SRH', nan, 'RPS', 'MI', 'KKR', 'GL', 'PBKS', 'DC', 'CSK',\n",
       "       'RR', 'GT', 'LSG'], dtype=object)"
      ]
     },
     "execution_count": 11,
     "metadata": {},
     "output_type": "execute_result"
    }
   ],
   "source": [
    "df[\"batTeamName\"].unique()"
   ]
  },
  {
   "cell_type": "code",
   "execution_count": 12,
   "id": "c573a425",
   "metadata": {},
   "outputs": [
    {
     "data": {
      "text/plain": [
       "date_time               0\n",
       "series_name             0\n",
       "match_id                0\n",
       "match_name              0\n",
       "status                  0\n",
       "venue                   0\n",
       "season                  0\n",
       "commText              518\n",
       "event                 518\n",
       "batsmanStrikerName    518\n",
       "batTeamName           518\n",
       "batsmanStrikerRuns    518\n",
       "bowlerStrikerName     518\n",
       "batTeamScore          518\n",
       "inningsId             518\n",
       "timestamp             518\n",
       "ballNbr               518\n",
       "commentary_id           0\n",
       "dtype: int64"
      ]
     },
     "execution_count": 12,
     "metadata": {},
     "output_type": "execute_result"
    }
   ],
   "source": [
    "df.isna().sum()"
   ]
  },
  {
   "cell_type": "code",
   "execution_count": 34,
   "id": "57ffb1eb",
   "metadata": {},
   "outputs": [],
   "source": [
    "df1 = df.dropna()\n",
    "df1.reset_index(drop=True, inplace=True)"
   ]
  },
  {
   "cell_type": "code",
   "execution_count": 35,
   "id": "88195dc7",
   "metadata": {},
   "outputs": [],
   "source": [
    "df2 = df[df['ballNbr']!=0].sort_values(['season','match_id','inningsId','ballNbr'], ascending=True).reset_index(drop=True)"
   ]
  },
  {
   "cell_type": "code",
   "execution_count": 36,
   "id": "7a90fbc1",
   "metadata": {},
   "outputs": [
    {
     "data": {
      "text/html": [
       "<div>\n",
       "<style scoped>\n",
       "    .dataframe tbody tr th:only-of-type {\n",
       "        vertical-align: middle;\n",
       "    }\n",
       "\n",
       "    .dataframe tbody tr th {\n",
       "        vertical-align: top;\n",
       "    }\n",
       "\n",
       "    .dataframe thead th {\n",
       "        text-align: right;\n",
       "    }\n",
       "</style>\n",
       "<table border=\"1\" class=\"dataframe\">\n",
       "  <thead>\n",
       "    <tr style=\"text-align: right;\">\n",
       "      <th></th>\n",
       "      <th>date_time</th>\n",
       "      <th>series_name</th>\n",
       "      <th>match_id</th>\n",
       "      <th>match_name</th>\n",
       "      <th>status</th>\n",
       "      <th>venue</th>\n",
       "      <th>season</th>\n",
       "      <th>commText</th>\n",
       "      <th>event</th>\n",
       "      <th>batsmanStrikerName</th>\n",
       "      <th>batTeamName</th>\n",
       "      <th>batsmanStrikerRuns</th>\n",
       "      <th>bowlerStrikerName</th>\n",
       "      <th>batTeamScore</th>\n",
       "      <th>inningsId</th>\n",
       "      <th>timestamp</th>\n",
       "      <th>ballNbr</th>\n",
       "      <th>commentary_id</th>\n",
       "      <th>complete_datetime</th>\n",
       "    </tr>\n",
       "  </thead>\n",
       "  <tbody>\n",
       "    <tr>\n",
       "      <th>0</th>\n",
       "      <td>Apr 05, 08:00 PM</td>\n",
       "      <td>Indian Premier League, 2017</td>\n",
       "      <td>18121</td>\n",
       "      <td>Sunrisers Hyderabad vs Royal Challengers Banga...</td>\n",
       "      <td>completed</td>\n",
       "      <td>Rajiv Gandhi International Stadium, Hyderabad</td>\n",
       "      <td>2017</td>\n",
       "      <td>Tymal Mills to Warner, no run, short of a len...</td>\n",
       "      <td>NONE</td>\n",
       "      <td>Warner</td>\n",
       "      <td>SRH</td>\n",
       "      <td>0.0</td>\n",
       "      <td>Tymal Mills</td>\n",
       "      <td>0.0</td>\n",
       "      <td>1.0</td>\n",
       "      <td>1.491403e+12</td>\n",
       "      <td>1.0</td>\n",
       "      <td>61sGXEURMeUQK18UtSoL</td>\n",
       "      <td>2017-04-05 14:32:22.378</td>\n",
       "    </tr>\n",
       "    <tr>\n",
       "      <th>1</th>\n",
       "      <td>Apr 05, 08:00 PM</td>\n",
       "      <td>Indian Premier League, 2017</td>\n",
       "      <td>18121</td>\n",
       "      <td>Sunrisers Hyderabad vs Royal Challengers Banga...</td>\n",
       "      <td>completed</td>\n",
       "      <td>Rajiv Gandhi International Stadium, Hyderabad</td>\n",
       "      <td>2017</td>\n",
       "      <td>Tymal Mills to Warner, no run, very full and ...</td>\n",
       "      <td>NONE</td>\n",
       "      <td>Warner</td>\n",
       "      <td>SRH</td>\n",
       "      <td>0.0</td>\n",
       "      <td>Tymal Mills</td>\n",
       "      <td>0.0</td>\n",
       "      <td>1.0</td>\n",
       "      <td>1.491403e+12</td>\n",
       "      <td>2.0</td>\n",
       "      <td>YMTy0sKwqCPHImS3CeB9</td>\n",
       "      <td>2017-04-05 14:32:56.547</td>\n",
       "    </tr>\n",
       "    <tr>\n",
       "      <th>2</th>\n",
       "      <td>Apr 05, 08:00 PM</td>\n",
       "      <td>Indian Premier League, 2017</td>\n",
       "      <td>18121</td>\n",
       "      <td>Sunrisers Hyderabad vs Royal Challengers Banga...</td>\n",
       "      <td>completed</td>\n",
       "      <td>Rajiv Gandhi International Stadium, Hyderabad</td>\n",
       "      <td>2017</td>\n",
       "      <td>Tymal Mills to Warner, B0$, B1$, sublime timin...</td>\n",
       "      <td>FOUR</td>\n",
       "      <td>Warner</td>\n",
       "      <td>SRH</td>\n",
       "      <td>4.0</td>\n",
       "      <td>Tymal Mills</td>\n",
       "      <td>4.0</td>\n",
       "      <td>1.0</td>\n",
       "      <td>1.491403e+12</td>\n",
       "      <td>3.0</td>\n",
       "      <td>EvnIsXWJaha8iF9MldoU</td>\n",
       "      <td>2017-04-05 14:33:36.255</td>\n",
       "    </tr>\n",
       "  </tbody>\n",
       "</table>\n",
       "</div>"
      ],
      "text/plain": [
       "          date_time                  series_name match_id  \\\n",
       "0  Apr 05, 08:00 PM  Indian Premier League, 2017    18121   \n",
       "1  Apr 05, 08:00 PM  Indian Premier League, 2017    18121   \n",
       "2  Apr 05, 08:00 PM  Indian Premier League, 2017    18121   \n",
       "\n",
       "                                          match_name     status  \\\n",
       "0  Sunrisers Hyderabad vs Royal Challengers Banga...  completed   \n",
       "1  Sunrisers Hyderabad vs Royal Challengers Banga...  completed   \n",
       "2  Sunrisers Hyderabad vs Royal Challengers Banga...  completed   \n",
       "\n",
       "                                           venue  season  \\\n",
       "0  Rajiv Gandhi International Stadium, Hyderabad    2017   \n",
       "1  Rajiv Gandhi International Stadium, Hyderabad    2017   \n",
       "2  Rajiv Gandhi International Stadium, Hyderabad    2017   \n",
       "\n",
       "                                            commText event batsmanStrikerName  \\\n",
       "0   Tymal Mills to Warner, no run, short of a len...  NONE             Warner   \n",
       "1   Tymal Mills to Warner, no run, very full and ...  NONE             Warner   \n",
       "2  Tymal Mills to Warner, B0$, B1$, sublime timin...  FOUR             Warner   \n",
       "\n",
       "  batTeamName  batsmanStrikerRuns bowlerStrikerName  batTeamScore  inningsId  \\\n",
       "0         SRH                 0.0       Tymal Mills           0.0        1.0   \n",
       "1         SRH                 0.0       Tymal Mills           0.0        1.0   \n",
       "2         SRH                 4.0       Tymal Mills           4.0        1.0   \n",
       "\n",
       "      timestamp  ballNbr         commentary_id       complete_datetime  \n",
       "0  1.491403e+12      1.0  61sGXEURMeUQK18UtSoL 2017-04-05 14:32:22.378  \n",
       "1  1.491403e+12      2.0  YMTy0sKwqCPHImS3CeB9 2017-04-05 14:32:56.547  \n",
       "2  1.491403e+12      3.0  EvnIsXWJaha8iF9MldoU 2017-04-05 14:33:36.255  "
      ]
     },
     "execution_count": 36,
     "metadata": {},
     "output_type": "execute_result"
    }
   ],
   "source": [
    "import pytz\n",
    "df2[\"complete_datetime\"] = pd.to_datetime(df2['timestamp'], unit='ms')\n",
    "df2.head(3)"
   ]
  },
  {
   "cell_type": "code",
   "execution_count": 37,
   "id": "7d67ff0b",
   "metadata": {},
   "outputs": [],
   "source": [
    "df3 = df2.drop(['date_time', 'timestamp', 'commentary_id'], axis=1)"
   ]
  },
  {
   "cell_type": "code",
   "execution_count": 38,
   "id": "d6834db7",
   "metadata": {},
   "outputs": [
    {
     "data": {
      "text/plain": [
       "(124714, 16)"
      ]
     },
     "execution_count": 38,
     "metadata": {},
     "output_type": "execute_result"
    }
   ],
   "source": [
    "df3.shape"
   ]
  },
  {
   "cell_type": "code",
   "execution_count": 39,
   "id": "51a7c8e7",
   "metadata": {},
   "outputs": [
    {
     "data": {
      "text/plain": [
       "batsmanStrikerName\n",
       "Virat Kohli         73432.0\n",
       "Shikhar Dhawan      66736.0\n",
       "Jos Buttler         65966.0\n",
       "Shubman Gill        63139.0\n",
       "Faf du Plessis      59753.0\n",
       "KL Rahul            53761.0\n",
       "David Warner        51636.0\n",
       "Sanju Samson        49452.0\n",
       "Suryakumar Yadav    48337.0\n",
       "Ruturaj Gaikwad     48044.0\n",
       "Name: batsmanStrikerRuns, dtype: float64"
      ]
     },
     "execution_count": 39,
     "metadata": {},
     "output_type": "execute_result"
    }
   ],
   "source": [
    "df3.groupby('batsmanStrikerName')['batsmanStrikerRuns'].sum().sort_values(ascending=False).head(10)"
   ]
  },
  {
   "cell_type": "code",
   "execution_count": 41,
   "id": "8fb8c34b",
   "metadata": {},
   "outputs": [
    {
     "data": {
      "text/plain": [
       "bowlerStrikerName\n",
       "Rashid Khan         115\n",
       "Harshal Patel        86\n",
       "Yuzvendra Chahal     78\n",
       "Mohammed Shami       76\n",
       "Ravindra Jadeja      73\n",
       "Arshdeep Singh       72\n",
       "Kagiso Rabada        71\n",
       "Sandeep Sharma       69\n",
       "Jasprit Bumrah       68\n",
       "Avesh Khan           66\n",
       "dtype: int64"
      ]
     },
     "execution_count": 41,
     "metadata": {},
     "output_type": "execute_result"
    }
   ],
   "source": [
    "df3[df3['event'] == 'WICKET'].groupby('bowlerStrikerName').size().sort_values(ascending=False).head(10)"
   ]
  },
  {
   "cell_type": "code",
   "execution_count": 42,
   "id": "b5af0ada",
   "metadata": {},
   "outputs": [
    {
     "data": {
      "text/html": [
       "<div>\n",
       "<style scoped>\n",
       "    .dataframe tbody tr th:only-of-type {\n",
       "        vertical-align: middle;\n",
       "    }\n",
       "\n",
       "    .dataframe tbody tr th {\n",
       "        vertical-align: top;\n",
       "    }\n",
       "\n",
       "    .dataframe thead th {\n",
       "        text-align: right;\n",
       "    }\n",
       "</style>\n",
       "<table border=\"1\" class=\"dataframe\">\n",
       "  <thead>\n",
       "    <tr style=\"text-align: right;\">\n",
       "      <th></th>\n",
       "      <th>series_name</th>\n",
       "      <th>match_id</th>\n",
       "      <th>match_name</th>\n",
       "      <th>status</th>\n",
       "      <th>venue</th>\n",
       "      <th>season</th>\n",
       "      <th>commText</th>\n",
       "      <th>event</th>\n",
       "      <th>batsmanStrikerName</th>\n",
       "      <th>batTeamName</th>\n",
       "      <th>batsmanStrikerRuns</th>\n",
       "      <th>bowlerStrikerName</th>\n",
       "      <th>batTeamScore</th>\n",
       "      <th>inningsId</th>\n",
       "      <th>ballNbr</th>\n",
       "      <th>complete_datetime</th>\n",
       "    </tr>\n",
       "  </thead>\n",
       "  <tbody>\n",
       "    <tr>\n",
       "      <th>0</th>\n",
       "      <td>Indian Premier League, 2017</td>\n",
       "      <td>18121</td>\n",
       "      <td>Sunrisers Hyderabad vs Royal Challengers Banga...</td>\n",
       "      <td>completed</td>\n",
       "      <td>Rajiv Gandhi International Stadium, Hyderabad</td>\n",
       "      <td>2017</td>\n",
       "      <td>Tymal Mills to Warner, no run, short of a len...</td>\n",
       "      <td>NONE</td>\n",
       "      <td>Warner</td>\n",
       "      <td>SRH</td>\n",
       "      <td>0.0</td>\n",
       "      <td>Tymal Mills</td>\n",
       "      <td>0.0</td>\n",
       "      <td>1.0</td>\n",
       "      <td>1.0</td>\n",
       "      <td>2017-04-05 14:32:22.378</td>\n",
       "    </tr>\n",
       "    <tr>\n",
       "      <th>1</th>\n",
       "      <td>Indian Premier League, 2017</td>\n",
       "      <td>18121</td>\n",
       "      <td>Sunrisers Hyderabad vs Royal Challengers Banga...</td>\n",
       "      <td>completed</td>\n",
       "      <td>Rajiv Gandhi International Stadium, Hyderabad</td>\n",
       "      <td>2017</td>\n",
       "      <td>Tymal Mills to Warner, no run, very full and ...</td>\n",
       "      <td>NONE</td>\n",
       "      <td>Warner</td>\n",
       "      <td>SRH</td>\n",
       "      <td>0.0</td>\n",
       "      <td>Tymal Mills</td>\n",
       "      <td>0.0</td>\n",
       "      <td>1.0</td>\n",
       "      <td>2.0</td>\n",
       "      <td>2017-04-05 14:32:56.547</td>\n",
       "    </tr>\n",
       "    <tr>\n",
       "      <th>2</th>\n",
       "      <td>Indian Premier League, 2017</td>\n",
       "      <td>18121</td>\n",
       "      <td>Sunrisers Hyderabad vs Royal Challengers Banga...</td>\n",
       "      <td>completed</td>\n",
       "      <td>Rajiv Gandhi International Stadium, Hyderabad</td>\n",
       "      <td>2017</td>\n",
       "      <td>Tymal Mills to Warner, B0$, B1$, sublime timin...</td>\n",
       "      <td>FOUR</td>\n",
       "      <td>Warner</td>\n",
       "      <td>SRH</td>\n",
       "      <td>4.0</td>\n",
       "      <td>Tymal Mills</td>\n",
       "      <td>4.0</td>\n",
       "      <td>1.0</td>\n",
       "      <td>3.0</td>\n",
       "      <td>2017-04-05 14:33:36.255</td>\n",
       "    </tr>\n",
       "    <tr>\n",
       "      <th>3</th>\n",
       "      <td>Indian Premier League, 2017</td>\n",
       "      <td>18121</td>\n",
       "      <td>Sunrisers Hyderabad vs Royal Challengers Banga...</td>\n",
       "      <td>completed</td>\n",
       "      <td>Rajiv Gandhi International Stadium, Hyderabad</td>\n",
       "      <td>2017</td>\n",
       "      <td>Tymal Mills to Warner, no run, short of a len...</td>\n",
       "      <td>NONE</td>\n",
       "      <td>Warner</td>\n",
       "      <td>SRH</td>\n",
       "      <td>4.0</td>\n",
       "      <td>Tymal Mills</td>\n",
       "      <td>4.0</td>\n",
       "      <td>1.0</td>\n",
       "      <td>4.0</td>\n",
       "      <td>2017-04-05 14:34:15.553</td>\n",
       "    </tr>\n",
       "    <tr>\n",
       "      <th>4</th>\n",
       "      <td>Indian Premier League, 2017</td>\n",
       "      <td>18121</td>\n",
       "      <td>Sunrisers Hyderabad vs Royal Challengers Banga...</td>\n",
       "      <td>completed</td>\n",
       "      <td>Rajiv Gandhi International Stadium, Hyderabad</td>\n",
       "      <td>2017</td>\n",
       "      <td>Tymal Mills to Dhawan, no run, on a good leng...</td>\n",
       "      <td>NONE</td>\n",
       "      <td>Dhawan</td>\n",
       "      <td>SRH</td>\n",
       "      <td>0.0</td>\n",
       "      <td>Tymal Mills</td>\n",
       "      <td>6.0</td>\n",
       "      <td>1.0</td>\n",
       "      <td>5.0</td>\n",
       "      <td>2017-04-05 14:35:54.119</td>\n",
       "    </tr>\n",
       "  </tbody>\n",
       "</table>\n",
       "</div>"
      ],
      "text/plain": [
       "                   series_name match_id  \\\n",
       "0  Indian Premier League, 2017    18121   \n",
       "1  Indian Premier League, 2017    18121   \n",
       "2  Indian Premier League, 2017    18121   \n",
       "3  Indian Premier League, 2017    18121   \n",
       "4  Indian Premier League, 2017    18121   \n",
       "\n",
       "                                          match_name     status  \\\n",
       "0  Sunrisers Hyderabad vs Royal Challengers Banga...  completed   \n",
       "1  Sunrisers Hyderabad vs Royal Challengers Banga...  completed   \n",
       "2  Sunrisers Hyderabad vs Royal Challengers Banga...  completed   \n",
       "3  Sunrisers Hyderabad vs Royal Challengers Banga...  completed   \n",
       "4  Sunrisers Hyderabad vs Royal Challengers Banga...  completed   \n",
       "\n",
       "                                           venue  season  \\\n",
       "0  Rajiv Gandhi International Stadium, Hyderabad    2017   \n",
       "1  Rajiv Gandhi International Stadium, Hyderabad    2017   \n",
       "2  Rajiv Gandhi International Stadium, Hyderabad    2017   \n",
       "3  Rajiv Gandhi International Stadium, Hyderabad    2017   \n",
       "4  Rajiv Gandhi International Stadium, Hyderabad    2017   \n",
       "\n",
       "                                            commText event batsmanStrikerName  \\\n",
       "0   Tymal Mills to Warner, no run, short of a len...  NONE             Warner   \n",
       "1   Tymal Mills to Warner, no run, very full and ...  NONE             Warner   \n",
       "2  Tymal Mills to Warner, B0$, B1$, sublime timin...  FOUR             Warner   \n",
       "3   Tymal Mills to Warner, no run, short of a len...  NONE             Warner   \n",
       "4   Tymal Mills to Dhawan, no run, on a good leng...  NONE             Dhawan   \n",
       "\n",
       "  batTeamName  batsmanStrikerRuns bowlerStrikerName  batTeamScore  inningsId  \\\n",
       "0         SRH                 0.0       Tymal Mills           0.0        1.0   \n",
       "1         SRH                 0.0       Tymal Mills           0.0        1.0   \n",
       "2         SRH                 4.0       Tymal Mills           4.0        1.0   \n",
       "3         SRH                 4.0       Tymal Mills           4.0        1.0   \n",
       "4         SRH                 0.0       Tymal Mills           6.0        1.0   \n",
       "\n",
       "   ballNbr       complete_datetime  \n",
       "0      1.0 2017-04-05 14:32:22.378  \n",
       "1      2.0 2017-04-05 14:32:56.547  \n",
       "2      3.0 2017-04-05 14:33:36.255  \n",
       "3      4.0 2017-04-05 14:34:15.553  \n",
       "4      5.0 2017-04-05 14:35:54.119  "
      ]
     },
     "execution_count": 42,
     "metadata": {},
     "output_type": "execute_result"
    }
   ],
   "source": [
    "df3.head()"
   ]
  },
  {
   "cell_type": "code",
   "execution_count": null,
   "id": "51f4990d",
   "metadata": {},
   "outputs": [],
   "source": []
  }
 ],
 "metadata": {
  "kernelspec": {
   "display_name": ".venv",
   "language": "python",
   "name": "python3"
  },
  "language_info": {
   "codemirror_mode": {
    "name": "ipython",
    "version": 3
   },
   "file_extension": ".py",
   "mimetype": "text/x-python",
   "name": "python",
   "nbconvert_exporter": "python",
   "pygments_lexer": "ipython3",
   "version": "3.13.2"
  }
 },
 "nbformat": 4,
 "nbformat_minor": 5
}
